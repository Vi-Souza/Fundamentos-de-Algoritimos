{
 "cells": [
  {
   "cell_type": "code",
   "execution_count": null,
   "id": "1c1b2e01",
   "metadata": {},
   "outputs": [
    {
     "name": "stdout",
     "output_type": "stream",
     "text": [
      "Fatorial de 1 = 1\n",
      "Fatorial de 2 = 2\n",
      "Fatorial de 3 = 6\n",
      "Fatorial de 4 = 24\n",
      "Fatorial de 5 = 120\n"
     ]
    }
   ],
   "source": [
    "#exer1\n",
    "num=int(input(\"Digite um número de 1 a 10: \"))\n",
    "if 1<=num and num<=10:\n",
    "    i = 1\n",
    "    cont= 1\n",
    "    while i<num+1:\n",
    "        cont = cont*i\n",
    "        print(f\"Fatorial de {i} = {cont}\")\n",
    "        i+= 1\n",
    "else:\n",
    "    print(\"Número inválido!\")"
   ]
  },
  {
   "cell_type": "code",
   "execution_count": 3,
   "id": "0345f88c",
   "metadata": {},
   "outputs": [
    {
     "name": "stdout",
     "output_type": "stream",
     "text": [
      "Matriz 5x5: [[0, 0, 0, 0, 0], [0, 0, 0, 0, 0], [0, 0, 0, 0, 0], [0, 0, 0, 0, 0], [0, 0, 0, 0, 0]]\n"
     ]
    }
   ],
   "source": [
    "#exer 2\n",
    "num=int(input(\"Digite o valor de n (entre 1 e 10): \"))\n",
    "if 1<=num and num<=10:\n",
    "    matriz=[]\n",
    "    for i in range(num):\n",
    "        linha=[]\n",
    "        for j in range(num):\n",
    "            linha.append(0)\n",
    "        matriz.append(linha)\n",
    "    print(f\"Matriz {num}x{num}: {matriz}\")\n",
    "else:\n",
    "    print(\"Por favor, insira um número entre 1 e 10.\")"
   ]
  }
 ],
 "metadata": {
  "kernelspec": {
   "display_name": "Python 3",
   "language": "python",
   "name": "python3"
  },
  "language_info": {
   "codemirror_mode": {
    "name": "ipython",
    "version": 3
   },
   "file_extension": ".py",
   "mimetype": "text/x-python",
   "name": "python",
   "nbconvert_exporter": "python",
   "pygments_lexer": "ipython3",
   "version": "3.13.9"
  }
 },
 "nbformat": 4,
 "nbformat_minor": 5
}
