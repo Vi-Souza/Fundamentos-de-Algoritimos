{
 "cells": [
  {
   "cell_type": "code",
   "execution_count": 2,
   "id": "1cc1cfea",
   "metadata": {},
   "outputs": [
    {
     "name": "stdout",
     "output_type": "stream",
     "text": [
      "None\n"
     ]
    }
   ],
   "source": [
    "x = 5\n",
    "def f1():\n",
    "    global x\n",
    "    x = 4\n",
    "\n",
    "def f2(a,b):\n",
    "    global xw\n",
    "\n",
    "f1()\n",
    "total = f2(1,2)\n",
    "print(total)"
   ]
  }
 ],
 "metadata": {
  "kernelspec": {
   "display_name": "Python 3",
   "language": "python",
   "name": "python3"
  },
  "language_info": {
   "codemirror_mode": {
    "name": "ipython",
    "version": 3
   },
   "file_extension": ".py",
   "mimetype": "text/x-python",
   "name": "python",
   "nbconvert_exporter": "python",
   "pygments_lexer": "ipython3",
   "version": "3.13.9"
  }
 },
 "nbformat": 4,
 "nbformat_minor": 5
}
