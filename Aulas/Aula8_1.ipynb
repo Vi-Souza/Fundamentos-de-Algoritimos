{
 "cells": [
  {
   "cell_type": "code",
   "execution_count": null,
   "id": "93d032f8",
   "metadata": {},
   "outputs": [],
   "source": [
    "lista=[]\n",
    "for i in range(5):\n",
    "    n=int(input(\"Digite um número: \"))\n",
    "    lista.append(n)\n",
    "\n",
    "print(f\"A lista completa é: {lista}\")"
   ]
  }
 ],
 "metadata": {
  "kernelspec": {
   "display_name": "Python 3",
   "language": "python",
   "name": "python3"
  },
  "language_info": {
   "codemirror_mode": {
    "name": "ipython",
    "version": 3
   },
   "file_extension": ".py",
   "mimetype": "text/x-python",
   "name": "python",
   "nbconvert_exporter": "python",
   "pygments_lexer": "ipython3",
   "version": "3.12.1"
  }
 },
 "nbformat": 4,
 "nbformat_minor": 5
}
